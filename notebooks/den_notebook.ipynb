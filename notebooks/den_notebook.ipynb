{
 "cells": [
  {
   "cell_type": "code",
   "execution_count": null,
   "id": "a77df4fe",
   "metadata": {},
   "outputs": [],
   "source": [
    "import pandas as pd\n",
    "from datetime import datetime, timedelta\n",
    "import random\n",
    "\n",
    "def generate_transaction_data(start_date, end_date, income_per_month, average_transactions_per_day):\n",
    "    # Initialize variables\n",
    "    current_balance = 0\n",
    "    data = []\n",
    "\n",
    "    # List of fictional London shop names\n",
    "    london_shops = {\n",
    "        'Coffee Shop': ['Bean Haven', 'Caffeine Fix', 'Espresso Junction', 'Mocha Haven'],\n",
    "        'Restaurant': ['Savor Bistro', 'Taste of London', 'Gastronomy Central', 'Urban Palate'],\n",
    "        'Supermarket': ['Metro Mart', 'City Grocers', 'London Fresh Market', 'Central Superstore'],\n",
    "        'Gym': ['FitFusion', 'PowerHouse Gym', 'London Fitness Hub', 'Urban Wellness'],\n",
    "        'Streaming Service': ['StreamEase', 'London Flicks', 'MediaHub', 'CinemaCity'],\n",
    "        'Clothing Shop': ['Fashion Fusion', 'London Threads', 'Style Haven', 'Chic Boutique'],\n",
    "        'Pub': ['The London Alehouse', 'Pub Central', 'Brewery Bliss', 'City Tavern']\n",
    "    }\n",
    "\n",
    "    # Generate transactions for each day\n",
    "    current_date = start_date\n",
    "    while current_date <= end_date:\n",
    "        # Random time within the day\n",
    "        random_hour = random.randint(0, 23)\n",
    "        random_minute = random.randint(0, 59)\n",
    "        random_second = random.randint(0, 59)\n",
    "        random_time = f\"{random_hour:02d}:{random_minute:02d}:{random_second:02d}\"\n",
    "\n",
    "        # Income transaction\n",
    "        income_transaction = {\n",
    "            'Date': current_date,\n",
    "            'Time': random_time,\n",
    "            'Amount': income_per_month,\n",
    "            'Balance': current_balance + income_per_month,\n",
    "            'ThirdPartyName': 'Employer'\n",
    "        }\n",
    "        data.append(income_transaction)\n",
    "        current_balance += income_per_month\n",
    "\n",
    "        # Random transactions\n",
    "        num_transactions = random.randint(0, int(2 * average_transactions_per_day))\n",
    "        for _ in range(num_transactions):\n",
    "            expense_amount = random.uniform(1, 1000)\n",
    "            category = random.choice(list(london_shops.keys()))\n",
    "            shop_name = random.choice(london_shops[category])\n",
    "            expense_transaction = {\n",
    "                'Date': current_date,\n",
    "                'Time': random_time,\n",
    "                'Amount': -expense_amount,\n",
    "                'Balance': current_balance - expense_amount,\n",
    "                'ThirdPartyName': f'{shop_name}'\n",
    "            }\n",
    "            data.append(expense_transaction)\n",
    "            current_balance -= expense_amount\n",
    "\n",
    "        # Move to the next day\n",
    "        current_date += timedelta(days=1)\n",
    "\n",
    "    return pd.DataFrame(data)\n",
    "\n",
    "# Set start and end dates\n",
    "start_date = datetime(2023, 1, 1)\n",
    "end_date = datetime(2023, 12, 31)\n",
    "\n",
    "# Set income per month\n",
    "income_per_month = 2500\n",
    "\n",
    "# Set average transactions per day\n",
    "average_transactions_per_day = 10\n",
    "\n",
    "# Generate synthetic transaction data\n",
    "synthetic_data = generate_transaction_data(start_date, end_date, income_per_month, average_transactions_per_day)\n",
    "\n",
    "# Display the synthetic data\n",
    "print(synthetic_data)\n"
   ]
  },
  {
   "cell_type": "code",
   "execution_count": null,
   "id": "c573a146",
   "metadata": {},
   "outputs": [],
   "source": []
  },
  {
   "cell_type": "code",
   "execution_count": null,
   "id": "2930eb37",
   "metadata": {},
   "outputs": [],
   "source": [
    "!pip install pandas"
   ]
  },
  {
   "cell_type": "code",
   "execution_count": null,
   "id": "a84b2865",
   "metadata": {
    "scrolled": true
   },
   "outputs": [],
   "source": [
    "!pip install numpy"
   ]
  },
  {
   "cell_type": "code",
   "execution_count": null,
   "id": "d034ef25",
   "metadata": {},
   "outputs": [],
   "source": [
    "import pandas as pd\n",
    "import numpy as np"
   ]
  },
  {
   "cell_type": "code",
   "execution_count": null,
   "id": "b6faacd0",
   "metadata": {},
   "outputs": [],
   "source": [
    "user_data = pd.read_csv(\"../user_data.csv\")"
   ]
  },
  {
   "cell_type": "code",
   "execution_count": null,
   "id": "c049e504",
   "metadata": {},
   "outputs": [],
   "source": [
    "user_data.head()"
   ]
  },
  {
   "cell_type": "code",
   "execution_count": null,
   "id": "12d2eb45",
   "metadata": {},
   "outputs": [],
   "source": [
    "company_categories = {\n",
    "    'Eating out': ['Tiger Tiger', 'Nandos', 'Pizza Express', 'The Royal Oak', 'Honest Burgers', 'Wetherspoon', 'Dominos'],\n",
    "    'Coffee': ['Nero', 'Costa Coffee'],\n",
    "    'Healthcare and Wellbeing': ['Pure gym', 'Boots', 'Lloyds pharmacy', 'Tony and Guy'],\n",
    "    'Travel': ['TFL'],\n",
    "    'Retail shops': ['Zara', 'Next', 'Amazon', 'Waitrose', 'Disney shop', 'John Lewis', 'New look', 'River Island', 'Asos', 'RayBan', 'HnM', 'B&Q', 'The Griffin', 'The Newman Arms', 'Trotters'],\n",
    "    'Supermarkets': ['Tesco', 'Waitrose'],\n",
    "    'Insurance and finance': ['Halifax', 'Churchill', 'Lloyds Bank'],\n",
    "    'Bills': ['Virgin Media', 'Amazon prime', 'Netflix', 'Octopus energy','O2'],\n",
    "    'Transfer to accounts': ['11234567', '111345678','11234678']\n",
    "}"
   ]
  },
  {
   "cell_type": "code",
   "execution_count": null,
   "id": "101e79f3",
   "metadata": {},
   "outputs": [],
   "source": [
    "user_data['category'] = user_data['third_party_name'].map({company: category for category, companies in company_categories.items() for company in companies})\n",
    "\n",
    "user_data.head()"
   ]
  },
  {
   "cell_type": "code",
   "execution_count": null,
   "id": "3c2f9058",
   "metadata": {},
   "outputs": [],
   "source": [
    "user_data.to_csv(\"./user_data.csv\")"
   ]
  },
  {
   "cell_type": "code",
   "execution_count": null,
   "id": "be07a92a",
   "metadata": {},
   "outputs": [],
   "source": [
    "user_data.head()"
   ]
  },
  {
   "cell_type": "code",
   "execution_count": null,
   "id": "ff252aa5",
   "metadata": {},
   "outputs": [],
   "source": [
    "monthly_spending  = user_data.groupby(\"category\").amount.sum().sort_values()*-1"
   ]
  },
  {
   "cell_type": "code",
   "execution_count": null,
   "id": "f287fa2d",
   "metadata": {},
   "outputs": [],
   "source": [
    "monthly_spending"
   ]
  },
  {
   "cell_type": "code",
   "execution_count": null,
   "id": "2ed8bf14",
   "metadata": {},
   "outputs": [],
   "source": [
    "spend_limits = {\n",
    "    'Eating out': 300,\n",
    "    'Coffee': 50,\n",
    "    'Healthcare and Wellbeing': 150,\n",
    "    'Travel': 100,\n",
    "    'Retail shops': 250,\n",
    "    'Supermarkets': 400,\n",
    "#     'Insurance and finance': 1000,\n",
    "    'Bills': 200,\n",
    "    'Transfer to accounts':500 \n",
    "}"
   ]
  },
  {
   "cell_type": "code",
   "execution_count": null,
   "id": "cb424010",
   "metadata": {},
   "outputs": [],
   "source": [
    "for category,spend_limit in spend_limits.items():\n",
    "    difference = spend_limit - monthly_spending.get(category, 0)\n",
    "    \n",
    "    if difference < 0:\n",
    "        print(f\"For {category}, you have overspent by {abs(difference):.2f}.\")\n",
    "    elif difference > 0:\n",
    "        print(f\"For {category}, you have {difference:.2f} left to spend.\")\n",
    "    else:\n",
    "        print(f\"For {category}, you have exactly spent your monthly limit.\")"
   ]
  }
 ],
 "metadata": {
  "kernelspec": {
   "display_name": "Python 3 (ipykernel)",
   "language": "python",
   "name": "python3"
  },
  "language_info": {
   "codemirror_mode": {
    "name": "ipython",
    "version": 3
   },
   "file_extension": ".py",
   "mimetype": "text/x-python",
   "name": "python",
   "nbconvert_exporter": "python",
   "pygments_lexer": "ipython3",
   "version": "3.8.10"
  }
 },
 "nbformat": 4,
 "nbformat_minor": 5
}
